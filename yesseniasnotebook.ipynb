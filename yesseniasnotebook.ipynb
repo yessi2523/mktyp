{
 "cells": [
  {
   "cell_type": "code",
   "execution_count": 1,
   "metadata": {},
   "outputs": [
    {
     "name": "stdout",
     "output_type": "stream",
     "text": [
      "This will give you the name of shapes.\n",
      "Enter number of sides: 6\n",
      "If your shape has 6 sides then your shape is a \n",
      "hexagon\n",
      "None\n"
     ]
    }
   ],
   "source": [
    "def shapeName(s):\n",
    "  if s==3:\n",
    "      print ('triangle')\n",
    "  elif s==4:\n",
    "      print( 'square or rectangle')\n",
    "  elif s==5:\n",
    "      print ('pentagon')\n",
    "  elif s==6:\n",
    "      print ('hexagon')\n",
    "  else:\n",
    "      print ('i do not know')\n",
    "\n",
    "print(\"This will give you the name of shapes.\")\n",
    "s=int(input(\"Enter number of sides: \"))\n",
    "print( \"If your shape has \" + str(s) + \" sides then your shape is a \")\n",
    "print(shapeName(s))\n"
   ]
  },
  {
   "cell_type": "code",
   "execution_count": 2,
   "metadata": {},
   "outputs": [
    {
     "name": "stdout",
     "output_type": "stream",
     "text": [
      "Hailstone Calculator\n",
      "Enter a number: 6\n",
      "3\n",
      "6\n",
      "3\n",
      "10\n",
      "5\n",
      "16\n",
      "8\n",
      "4\n",
      "2\n",
      "done\n"
     ]
    }
   ],
   "source": [
    "def nextHailstone(n):\n",
    "    if (n%2==0):\n",
    "        return int(n/2)\n",
    "    else:\n",
    "        return 3*n+1\n",
    "\n",
    "\n",
    "print(\"Hailstone Calculator\")\n",
    "x=int(input(\"Enter a number: \"))\n",
    "print(nextHailstone(x))\n",
    "while (x>1):\n",
    "    print(x)\n",
    "    x=nextHailstone(x)\n",
    "print('done')"
   ]
  },
  {
   "cell_type": "code",
   "execution_count": 3,
   "metadata": {},
   "outputs": [
    {
     "name": "stdout",
     "output_type": "stream",
     "text": [
      "This will tell you wether a year is a leap year or not.\n",
      "Enter a year: 2018\n",
      "The year 2018 is \n",
      "is not a leap year\n",
      "None\n"
     ]
    }
   ],
   "source": [
    "def is_leap_year(y):\n",
    "  if (y%4==0):\n",
    "      print(\"is a leap year\")\n",
    "  elif (y%100==0):\n",
    "      print(\"is not a leap year\")\n",
    "  elif (y%400==0):\n",
    "      print(\"is a leap year\")\n",
    "  else:\n",
    "      print(\"is not a leap year\")\n",
    "\n",
    "print(\"This will tell you wether a year is a leap year or not.\")\n",
    "y= int(input(\"Enter a year: \"))\n",
    "print(\"The year \" + str(y)+ \" is \")\n",
    "print( is_leap_year(y))\n"
   ]
  },
  {
   "cell_type": "code",
   "execution_count": 6,
   "metadata": {},
   "outputs": [
    {
     "name": "stdout",
     "output_type": "stream",
     "text": [
      "This is will tell you how many days in a month. \n",
      "Enter a month, in interger form 7\n",
      "enter 0 if it is not a leap year and 1 if it is a leap year 0\n",
      "Month 7 has\n",
      "31\n"
     ]
    }
   ],
   "source": [
    "def days_in_month(m,leap):\n",
    "    if m in [1,3,5,7,8,10,12]:\n",
    "        return 31\n",
    "    elif m in [4,6,9,11]:\n",
    "        return 30\n",
    "    elif leap==True:\n",
    "        return 29\n",
    "    else:\n",
    "        return 28\n",
    "\n",
    "print(\"This is will tell you how many days in a month. \")\n",
    "m=int(input( \"Enter a month, in interger form \"))\n",
    "leap= int(input(\"enter 0 if it is not a leap year and 1 if it is a leap year \"))\n",
    "print(\"Month \" + str(m)+ \" has\")\n",
    "print( days_in_month(m,leap))\n"
   ]
  },
  {
   "cell_type": "code",
   "execution_count": 7,
   "metadata": {},
   "outputs": [
    {
     "name": "stdout",
     "output_type": "stream",
     "text": [
      "This will tell you if your are eligible to vote\n",
      "Enter your age 18\n",
      "If you are 18 years old \n",
      "You are allowed to vote \n",
      "None\n"
     ]
    }
   ],
   "source": [
    "print(\"This will tell you if your are eligible to vote\")\n",
    "def can_vote(age):\n",
    "  \n",
    "  if age>=18:\n",
    "    print(\"You are allowed to vote \")\n",
    "  else:\n",
    "    print(\"You are not allowed to vote \")\n",
    "    \n",
    "age =int(input(\"Enter your age \"))\n",
    "print(\"If you are \" + str(age) + \" years old \")\n",
    "print(can_vote(age))"
   ]
  },
  {
   "cell_type": "code",
   "execution_count": 8,
   "metadata": {},
   "outputs": [
    {
     "name": "stdout",
     "output_type": "stream",
     "text": [
      "Degree to Radian Calculator\n",
      "Enter an angle in degrees: 60\n",
      "The angle 60.0 degrees is 1.0471975511965976 radians\n"
     ]
    }
   ],
   "source": [
    "import math\n",
    "def degToRadian(degrees):\n",
    "    r=degrees/180*math.pi\n",
    "    return r\n",
    "\n",
    "print(\"Degree to Radian Calculator\")\n",
    "degrees=float(input(\"Enter an angle in degrees: \"))\n",
    "r=degToRadian(degrees)\n",
    "print(\"The angle \" + str(degrees)+ \" degrees is \" + str(r) + \" radians\")"
   ]
  },
  {
   "cell_type": "code",
   "execution_count": 9,
   "metadata": {},
   "outputs": [
    {
     "name": "stdout",
     "output_type": "stream",
     "text": [
      "Distance traveled calculator\n",
      "How much time did you travel, in hours? 4\n",
      "At what speed did you travel, in mph? 55\n",
      "At 55.0mph and 4.0hrs you have traveled 220.0 miles \n"
     ]
    }
   ],
   "source": [
    "def distance(speed, time):\n",
    "    d=speed*time\n",
    "    return d\n",
    "\n",
    "print(\"Distance traveled calculator\")\n",
    "time= float(input(\"How much time did you travel, in hours? \"))\n",
    "speed= float(input(\"At what speed did you travel, in mph? \"))\n",
    "d= distance(speed, time)\n",
    "print(\"At \" + str(speed) + \"mph and \" + str(time) + \"hrs you have traveled \" + str(d) + \" miles \")"
   ]
  },
  {
   "cell_type": "code",
   "execution_count": 12,
   "metadata": {},
   "outputs": [
    {
     "name": "stdout",
     "output_type": "stream",
     "text": [
      "Map Distance Calculator\n",
      "Enter x: 5\n",
      "Enter y: 6\n",
      "The distance between 5.0 and 6.0 is 7.810249675906654\n"
     ]
    }
   ],
   "source": [
    "import math\n",
    "def mapdist(x,y):\n",
    "    d=math.sqrt((x*x) + (y*y))\n",
    "    return d\n",
    "\n",
    "print(\"Map Distance Calculator\")\n",
    "x=float(input(\"Enter x: \"))\n",
    "y=float(input(\"Enter y: \"))\n",
    "distance= mapdist(x,y)\n",
    "print(\"The distance between \" + str(x) + \" and \" + str(y) + \" is \" + str(distance))"
   ]
  },
  {
   "cell_type": "markdown",
   "metadata": {},
   "source": [
    "import math\n",
    "def triangleArea(a,b,c):\n",
    "    s=(a+b+c)/2\n",
    "    area = math.sqrt(s*(s-a)*(s-b)*(s-c))\n",
    "    return area\n",
    "\n",
    "print(\"Triangle Area Calculator\")\n",
    "a=float(input(\"Enter side a: \"))\n",
    "b=float(input(\"Enter side b: \"))\n",
    "c=float(input(\"Enter side c: \"))\n",
    "area= triangleArea(a,b,c)\n",
    "print( \"The area of the triangle is \" + str(area))"
   ]
  },
  {
   "cell_type": "code",
   "execution_count": 13,
   "metadata": {},
   "outputs": [
    {
     "name": "stdout",
     "output_type": "stream",
     "text": [
      "Inches to Meters calculator\n",
      "Enter a distance in inches: 78\n",
      "78.0 inches will give you 1.981200002020824 in meters\n"
     ]
    }
   ],
   "source": [
    "def inch2meter(distance):\n",
    "    m=distance/39.3700787\n",
    "    return m\n",
    "\n",
    "print(\"Inches to Meters calculator\")\n",
    "distance=float(input(\"Enter a distance in inches: \"))\n",
    "m= inch2meter(distance)\n",
    "print(str(distance) + \" inches will give you \" + str(m)+ \" in meters\")"
   ]
  },
  {
   "cell_type": "code",
   "execution_count": 14,
   "metadata": {},
   "outputs": [
    {
     "name": "stdout",
     "output_type": "stream",
     "text": [
      "MPH to FPS calculator\n",
      "Enter a speed in mph: 66\n",
      " in 1 second you will go 96.8 feet\n"
     ]
    }
   ],
   "source": [
    "def mph2fps(s):\n",
    "    return s*5280.0/3600\n",
    "\n",
    "\n",
    "print(\"MPH to FPS calculator\")\n",
    "speed = float(input(\"Enter a speed in mph: \"))\n",
    "fps = mph2fps(speed)\n",
    "print(\" in 1 second you will go \" + str(fps) + \" feet\")"
   ]
  },
  {
   "cell_type": "code",
   "execution_count": 15,
   "metadata": {},
   "outputs": [
    {
     "name": "stdout",
     "output_type": "stream",
     "text": [
      "This script will tell you the windchill once you input degrees and velocity.\n",
      "What is the temperature in degrees F: 50\n",
      "What is the wind speed in MPH: 77\n",
      "The windchill of 50.0 degrees F and 77.0 mph is 38.01142664763959\n"
     ]
    }
   ],
   "source": [
    "import math\n",
    "print(\"This script will tell you the windchill once you input degrees and velocity.\")\n",
    "f=float(input(\"What is the temperature in degrees F: \"))\n",
    "vel=float(input(\"What is the wind speed in MPH: \"))\n",
    "\n",
    "wc = 35.74 + 0.6215 * f - 35.75 * math.pow(vel,0.16) + 0.4275 * f * math.pow(vel,0.16)\n",
    "\n",
    "print(\"The windchill of \" +  str(f) + \" degrees F and \" + str(vel) + \" mph is \" + str(wc))"
   ]
  },
  {
   "cell_type": "code",
   "execution_count": 17,
   "metadata": {},
   "outputs": [
    {
     "name": "stdout",
     "output_type": "stream",
     "text": [
      "Enter a word: \"hey\"\n",
      "\"hey\"\n"
     ]
    }
   ],
   "source": [
    "# read 2 from user\n",
    "w=input(\"Enter a word: \")\n",
    "\n",
    "if len(w)<=6:\n",
    "    print (w)\n",
    "else:\n",
    "    print(w[0:3]) + \".\""
   ]
  },
  {
   "cell_type": "code",
   "execution_count": 18,
   "metadata": {},
   "outputs": [
    {
     "name": "stdout",
     "output_type": "stream",
     "text": [
      "This will tell you what n, a number, is to the fourth. \n",
      "Enter a number: 6\n",
      "The number 6.0 to the fourth is 1296.0\n"
     ]
    }
   ],
   "source": [
    "print(\"This will tell you what n, a number, is to the fourth. \")\n",
    "\n",
    "def calcFourth(n):\n",
    "    return n*n*n*n\n",
    "n=float(input(\"Enter a number: \"))\n",
    "print(\"The number \" + str(n) + \" to the fourth is \" + str(calcFourth(n)))"
   ]
  },
  {
   "cell_type": "code",
   "execution_count": 19,
   "metadata": {},
   "outputs": [
    {
     "name": "stdout",
     "output_type": "stream",
     "text": [
      "Once you input a word, the script will add the first two letters of the word at the begining.\n",
      "Enter a word: word\n",
      " The word would be woword\n"
     ]
    }
   ],
   "source": [
    "print(\"Once you input a word, the script will add the first two letters of the word at the begining.\")\n",
    "\n",
    "w=input(\"Enter a word: \")\n",
    "\n",
    "print (\" The word would be \" + w[0:2] + w)"
   ]
  },
  {
   "cell_type": "code",
   "execution_count": 21,
   "metadata": {},
   "outputs": [
    {
     "name": "stdout",
     "output_type": "stream",
     "text": [
      "Enter a: 5\n",
      "Enter b: 6\n",
      "Enter c: 7\n",
      "the roots are:[]\n"
     ]
    }
   ],
   "source": [
    "import math\n",
    "a= float(input(\"Enter a: \"))\n",
    "b= float(input(\"Enter b: \"))\n",
    "c= float(input(\"Enter c: \"))\n",
    "\n",
    "\n",
    "def roots(a,b,c):\n",
    "    d=b*b-4*a*c\n",
    "    if d<0:\n",
    "        return []\n",
    "    elif d==0:\n",
    "        return [-b/(2*a)]\n",
    "    elif d>0:\n",
    "        return [(-b + math.sqrt(d))/(2*a),  (-b - math.sqrt(d))/(2*a) ]\n",
    "\n",
    "print(\"the roots are:\" + str(roots(a,b,c)))"
   ]
  },
  {
   "cell_type": "code",
   "execution_count": null,
   "metadata": {},
   "outputs": [],
   "source": []
  }
 ],
 "metadata": {
  "kernelspec": {
   "display_name": "Python 3",
   "language": "python",
   "name": "python3"
  },
  "language_info": {
   "codemirror_mode": {
    "name": "ipython",
    "version": 3
   },
   "file_extension": ".py",
   "mimetype": "text/x-python",
   "name": "python",
   "nbconvert_exporter": "python",
   "pygments_lexer": "ipython3",
   "version": "3.7.0"
  }
 },
 "nbformat": 4,
 "nbformat_minor": 2
}
